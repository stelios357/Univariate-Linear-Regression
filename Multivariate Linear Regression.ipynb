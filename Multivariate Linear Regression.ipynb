{
 "cells": [
  {
   "cell_type": "code",
   "execution_count": 3,
   "metadata": {},
   "outputs": [],
   "source": [
    "import numpy as np\n",
    "from matplotlib import pyplot as plt\n",
    "from sklearn.datasets import load_boston\n",
    "from sklearn.model_selection import train_test_split"
   ]
  },
  {
   "cell_type": "code",
   "execution_count": 4,
   "metadata": {},
   "outputs": [
    {
     "name": "stdout",
     "output_type": "stream",
     "text": [
      "(404, 13) (102, 13) (404,) (102,)\n"
     ]
    }
   ],
   "source": [
    "boston = load_boston()\n",
    "X_train, X_test, y_train, y_test = train_test_split(boston.data, boston.target, test_size=0.2)\n",
    "print(X_train.shape, X_test.shape, y_train.shape, y_test.shape)"
   ]
  },
  {
   "cell_type": "code",
   "execution_count": 50,
   "metadata": {},
   "outputs": [],
   "source": [
    "class MultiVariateLinearRegression:\n",
    "    \n",
    "    def __init__(self, X, y):\n",
    "        self.X = ((X - X.mean(axis=0))/X.std(axis=0))\n",
    "        self.y = y\n",
    "        self.coefs = np.random.uniform(low=-1, high=1, size=(X.shape[1],))\n",
    "        self.bias = np.random.random()\n",
    "        \n",
    "    def compute_loss(self):\n",
    "        losses = []\n",
    "        for x,y in zip(self.X, self.y):\n",
    "            yhat = self.predict(x)\n",
    "            loss = (y - yhat)**2\n",
    "            losses.append(loss)\n",
    "        \n",
    "        losses = np.array(losses)\n",
    "        return losses.sum() / (2 * self.X.shape[0])\n",
    "    \n",
    "    ### Gradient Descent\n",
    "    def calculate_gradients(self):\n",
    "        grad_00 = 0\n",
    "        coefs = list()\n",
    "        \n",
    "        yhat = np.array(self.get_all_preds())\n",
    "#         print(yhat.shape)\n",
    "        diff = yhat - self.y\n",
    "#         print(diff.shape)\n",
    "        grad_00 += diff.sum()/self.X.shape[0]\n",
    "        \n",
    "        for j in range(self.X.shape[1]):\n",
    "#             print(self.X[:,j].shape)\n",
    "            grad = (diff * self.X[:, j]).sum() / self.X.shape[0]\n",
    "            coefs.append(grad)\n",
    "            \n",
    "        coefs = np.array(coefs)\n",
    "#         print(coefs.shape)\n",
    "#         print('-'*20)\n",
    "#         print(grad_00, coefs, sep='\\n')\n",
    "        return (grad_00, coefs)\n",
    "        \n",
    "        \n",
    "    def update_weights(self, gradients, learning_rate):\n",
    "        grad_00, coefs = gradients\n",
    "        self.bias = self.bias - (learning_rate * grad_00)\n",
    "        self.coefs = self.coefs - (coefs * learning_rate)\n",
    "        \n",
    "    ### \n",
    "    \n",
    "    def predict(self, x):\n",
    "        return self.coefs.dot(x) + self.bias\n",
    "    \n",
    "#     def score(self):\n",
    "#         pass\n",
    "    \n",
    "    def get_all_preds(self):\n",
    "        preds = []\n",
    "        for x in self.X:\n",
    "            preds.append(self.predict(x))\n",
    "        return preds\n",
    "    \n",
    "    def train(self, losses, iterations=1, alpha=0.01):\n",
    "        for _ in range(iterations):\n",
    "            gradients = self.calculate_gradients()\n",
    "            self.update_weights(gradients, alpha)\n",
    "            losses.append(self.compute_loss())\n",
    "        return losses"
   ]
  },
  {
   "cell_type": "markdown",
   "metadata": {},
   "source": [
    "### Initialising Model"
   ]
  },
  {
   "cell_type": "code",
   "execution_count": 51,
   "metadata": {},
   "outputs": [],
   "source": [
    "multivariate = MultiVariateLinearRegression(X_train, y_train)\n",
    "losses = [multivariate.compute_loss()]"
   ]
  },
  {
   "cell_type": "code",
   "execution_count": 52,
   "metadata": {},
   "outputs": [
    {
     "data": {
      "text/plain": [
       "[291.81386928651966]"
      ]
     },
     "execution_count": 52,
     "metadata": {},
     "output_type": "execute_result"
    }
   ],
   "source": [
    "losses"
   ]
  },
  {
   "cell_type": "code",
   "execution_count": 53,
   "metadata": {},
   "outputs": [
    {
     "data": {
      "text/plain": [
       "[17.416875700859542,\n",
       " 17.309444135803567,\n",
       " 17.20410371340554,\n",
       " 17.100812882197864,\n",
       " 16.999530921564062,\n",
       " 16.900217925055532,\n",
       " 16.802834784044798,\n",
       " 16.70734317170838,\n",
       " 16.61370552733284,\n",
       " 16.521885040937093]"
      ]
     },
     "execution_count": 53,
     "metadata": {},
     "output_type": "execute_result"
    }
   ],
   "source": [
    "losses = multivariate.train(losses, iterations=200, alpha=0.01)\n",
    "losses[-10:]"
   ]
  },
  {
   "cell_type": "code",
   "execution_count": 54,
   "metadata": {},
   "outputs": [
    {
     "data": {
      "image/png": "[encoded data removed]",
      "text/plain": [
       "<Figure size 432x288 with 1 Axes>"
      ]
     },
     "metadata": {
      "needs_background": "light"
     },
     "output_type": "display_data"
    }
   ],
   "source": [
    "plt.figure()\n",
    "plt.plot(losses)\n",
    "plt.show()"
   ]
  },
  {
   "cell_type": "code",
   "execution_count": 55,
   "metadata": {},
   "outputs": [
    {
     "data": {
      "text/plain": [
       "array([-0.45009466,  0.79407428, -0.22124834,  1.05378476, -0.14203093,\n",
       "        2.97895978, -0.15974394, -1.11211548,  1.0530551 , -1.51977051,\n",
       "       -1.48687804,  0.75240465, -3.33336649])"
      ]
     },
     "execution_count": 55,
     "metadata": {},
     "output_type": "execute_result"
    }
   ],
   "source": [
    "multivariate.coefs"
   ]
  },
  {
   "cell_type": "code",
   "execution_count": null,
   "metadata": {},
   "outputs": [],
   "source": []
  }
 ],
 "metadata": {
  "kernelspec": {
   "display_name": "Python 3",
   "language": "python",
   "name": "python3"
  },
  "language_info": {
   "codemirror_mode": {
    "name": "ipython",
    "version": 3
   },
   "file_extension": ".py",
   "mimetype": "text/x-python",
   "name": "python",
   "nbconvert_exporter": "python",
   "pygments_lexer": "ipython3",
   "version": "3.7.0"
  }
 },
 "nbformat": 4,
 "nbformat_minor": 2
}
